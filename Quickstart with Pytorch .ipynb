{
 "cells": [
  {
   "cell_type": "markdown",
   "id": "73611882",
   "metadata": {},
   "source": [
    "# Quickstart to Pytorch by Engrgit"
   ]
  },
  {
   "cell_type": "code",
   "execution_count": 1,
   "id": "f4e59e7b",
   "metadata": {},
   "outputs": [],
   "source": [
    "#Import dependencies\n",
    "import torch\n",
    "from torch import nn\n",
    "from torch.utils.data import DataLoader\n",
    "from torchvision import datasets\n",
    "from torchvision.transforms import ToTensor, Lambda, Compose\n",
    "import matplotlib.pyplot as plt"
   ]
  },
  {
   "cell_type": "code",
   "execution_count": 2,
   "id": "a43ca737",
   "metadata": {},
   "outputs": [],
   "source": [
    "#Download training data from open datasets.\n",
    "training_data = datasets.FashionMNIST(root = \"data\", train = True, download = True, transform = ToTensor(),)\n",
    "\n",
    "#Download test data from open datasets.\n",
    "test_data = datasets.FashionMNIST(root = \"data\", train = False, download = True, transform = ToTensor(),)"
   ]
  },
  {
   "cell_type": "code",
   "execution_count": 3,
   "id": "f6d5f6ad",
   "metadata": {},
   "outputs": [
    {
     "name": "stdout",
     "output_type": "stream",
     "text": [
      "Shape of X [N, C, H, W]:  torch.Size([64, 1, 28, 28])\n",
      "Shape of y:  torch.Size([64]) torch.int64\n"
     ]
    }
   ],
   "source": [
    "batch_size = 64\n",
    "\n",
    "#Create dataloaders.\n",
    "train_dataloader = DataLoader(training_data, batch_size = batch_size)\n",
    "test_dataloader = DataLoader(test_data, batch_size = batch_size)\n",
    "\n",
    "for X, y in test_dataloader:\n",
    "    print(\"Shape of X [N, C, H, W]: \", X.shape)\n",
    "    print(\"Shape of y: \", y.shape, y.dtype)\n",
    "    break"
   ]
  },
  {
   "cell_type": "code",
   "execution_count": 4,
   "id": "02e82975",
   "metadata": {},
   "outputs": [
    {
     "name": "stdout",
     "output_type": "stream",
     "text": [
      "Using cpu deviice\n",
      "NeuralNetwork(\n",
      "  (flatten): Flatten(start_dim=1, end_dim=-1)\n",
      "  (linear_relu_stack): Sequential(\n",
      "    (0): Linear(in_features=784, out_features=512, bias=True)\n",
      "    (1): ReLU()\n",
      "    (2): Linear(in_features=512, out_features=512, bias=True)\n",
      "    (3): ReLU()\n",
      "    (4): Linear(in_features=512, out_features=10, bias=True)\n",
      "    (5): ReLU()\n",
      "  )\n",
      ")\n"
     ]
    }
   ],
   "source": [
    "#Get cpu or gpu device for training.\n",
    "\n",
    "device = \"cuda\" if torch.cuda.is_available() else \"cpu\"\n",
    "print(\"Using {} deviice\".format(device))\n",
    "\n",
    "#Define model\n",
    "class NeuralNetwork(nn.Module):\n",
    "    def __init__(self):\n",
    "        super(NeuralNetwork, self).__init__()\n",
    "        self.flatten = nn.Flatten()\n",
    "        self.linear_relu_stack = nn.Sequential(\n",
    "            nn.Linear(28*28, 512),\n",
    "            nn.ReLU(),\n",
    "            nn.Linear(512, 512),\n",
    "            nn.ReLU(),\n",
    "            nn.Linear(512, 10),\n",
    "            nn.ReLU()\n",
    "        )\n",
    "        \n",
    "    def forward(self, x):\n",
    "        x = self.flatten(x)\n",
    "        logits = self.linear_relu_stack(x)\n",
    "        return logits\n",
    "    \n",
    "model = NeuralNetwork().to(device)\n",
    "print(model)"
   ]
  },
  {
   "cell_type": "code",
   "execution_count": 5,
   "id": "89e15ac3",
   "metadata": {},
   "outputs": [],
   "source": [
    "loss_fn = nn.CrossEntropyLoss()\n",
    "optimizer = torch.optim.SGD(model.parameters(), lr = 1e-3)"
   ]
  },
  {
   "cell_type": "code",
   "execution_count": 6,
   "id": "a432dabc",
   "metadata": {},
   "outputs": [],
   "source": [
    "def train(dataloader, model, loss_fn, optimizer):\n",
    "    size = len(dataloader.dataset)\n",
    "    for batch, (X,y) in enumerate(dataloader):\n",
    "        X, y = X.to(device), y.to(device)\n",
    "        \n",
    "        #Compute prediction error\n",
    "        pred = model(X)\n",
    "        loss = loss_fn(pred, y)\n",
    "        \n",
    "        #Backpropagation\n",
    "        optimizer.zero_grad()\n",
    "        loss.backward()\n",
    "        optimizer.step()\n",
    "        \n",
    "        if batch % 100 ==0:\n",
    "            loss, current = loss.item(), batch* len(X)\n",
    "            print(f\"loss: {loss: >7f} [{current: >5d}/{size:> 5d}]\")\n",
    "        "
   ]
  },
  {
   "cell_type": "code",
   "execution_count": 7,
   "id": "7ad60135",
   "metadata": {},
   "outputs": [],
   "source": [
    "def test(dataloader, model, loss_fn):\n",
    "    size = len(dataloader.dataset)\n",
    "    num_batches = len(dataloader)\n",
    "    model.eval()\n",
    "    test_loss, correct = 0,0\n",
    "    with torch.no_grad():\n",
    "        for X, y in dataloader:\n",
    "            X, y = X.to(device), y.to(device)\n",
    "            pred = model(X)\n",
    "            test_loss += loss_fn(pred, y).item()\n",
    "            correct += (pred.argmax(1) == y).type(torch.float).sum().item()\n",
    "        test_loss /= num_batches\n",
    "        correct /= size\n",
    "        print(f\"Test Error: \\n Accuracy: {(100 * correct):>0.1f}%, Avg loss:{test_loss:>8f} \\n\")\n",
    "    "
   ]
  },
  {
   "cell_type": "code",
   "execution_count": 8,
   "id": "6b396b9e",
   "metadata": {},
   "outputs": [
    {
     "name": "stdout",
     "output_type": "stream",
     "text": [
      "Epoch 1\n",
      "-------------------------------\n",
      "loss: 2.306142 [    0/ 60000]\n",
      "loss: 2.303918 [ 6400/ 60000]\n",
      "loss: 2.290088 [12800/ 60000]\n",
      "loss: 2.288437 [19200/ 60000]\n",
      "loss: 2.281235 [25600/ 60000]\n",
      "loss: 2.253345 [32000/ 60000]\n",
      "loss: 2.274608 [38400/ 60000]\n",
      "loss: 2.243963 [44800/ 60000]\n",
      "loss: 2.251560 [51200/ 60000]\n",
      "loss: 2.222365 [57600/ 60000]\n",
      "Test Error: \n",
      " Accuracy: 29.1%, Avg loss:2.232430 \n",
      "\n",
      "Epoch 2\n",
      "-------------------------------\n",
      "loss: 2.240030 [    0/ 60000]\n",
      "loss: 2.249532 [ 6400/ 60000]\n",
      "loss: 2.196971 [12800/ 60000]\n",
      "loss: 2.218878 [19200/ 60000]\n",
      "loss: 2.203358 [25600/ 60000]\n",
      "loss: 2.132728 [32000/ 60000]\n",
      "loss: 2.198827 [38400/ 60000]\n",
      "loss: 2.126680 [44800/ 60000]\n",
      "loss: 2.160022 [51200/ 60000]\n",
      "loss: 2.106693 [57600/ 60000]\n",
      "Test Error: \n",
      " Accuracy: 33.8%, Avg loss:2.122183 \n",
      "\n",
      "Epoch 3\n",
      "-------------------------------\n",
      "loss: 2.134441 [    0/ 60000]\n",
      "loss: 2.156405 [ 6400/ 60000]\n",
      "loss: 2.043606 [12800/ 60000]\n",
      "loss: 2.102444 [19200/ 60000]\n",
      "loss: 2.065154 [25600/ 60000]\n",
      "loss: 1.950354 [32000/ 60000]\n",
      "loss: 2.074833 [38400/ 60000]\n",
      "loss: 1.943652 [44800/ 60000]\n",
      "loss: 2.019936 [51200/ 60000]\n",
      "loss: 1.942545 [57600/ 60000]\n",
      "Test Error: \n",
      " Accuracy: 35.4%, Avg loss:1.962216 \n",
      "\n",
      "Epoch 4\n",
      "-------------------------------\n",
      "loss: 1.979530 [    0/ 60000]\n",
      "loss: 2.026189 [ 6400/ 60000]\n",
      "loss: 1.835436 [12800/ 60000]\n",
      "loss: 1.947823 [19200/ 60000]\n",
      "loss: 1.914885 [25600/ 60000]\n",
      "loss: 1.751659 [32000/ 60000]\n",
      "loss: 1.944820 [38400/ 60000]\n",
      "loss: 1.759010 [44800/ 60000]\n",
      "loss: 1.869243 [51200/ 60000]\n",
      "loss: 1.804449 [57600/ 60000]\n",
      "Test Error: \n",
      " Accuracy: 37.6%, Avg loss:1.818430 \n",
      "\n",
      "Epoch 5\n",
      "-------------------------------\n",
      "loss: 1.828262 [    0/ 60000]\n",
      "loss: 1.910368 [ 6400/ 60000]\n",
      "loss: 1.657627 [12800/ 60000]\n",
      "loss: 1.825401 [19200/ 60000]\n",
      "loss: 1.802633 [25600/ 60000]\n",
      "loss: 1.615270 [32000/ 60000]\n",
      "loss: 1.849272 [38400/ 60000]\n",
      "loss: 1.639268 [44800/ 60000]\n",
      "loss: 1.754248 [51200/ 60000]\n",
      "loss: 1.721102 [57600/ 60000]\n",
      "Test Error: \n",
      " Accuracy: 42.8%, Avg loss:1.721625 \n",
      "\n",
      "Done!\n"
     ]
    }
   ],
   "source": [
    "epochs = 5\n",
    "for t in range(epochs):\n",
    "    print(f\"Epoch {t+1}\\n-------------------------------\")\n",
    "    train(train_dataloader, model, loss_fn, optimizer)\n",
    "    test(test_dataloader, model, loss_fn)\n",
    "print(\"Done!\")"
   ]
  },
  {
   "cell_type": "markdown",
   "id": "45497d76",
   "metadata": {},
   "source": [
    "# Saving your model"
   ]
  },
  {
   "cell_type": "code",
   "execution_count": 9,
   "id": "6455b908",
   "metadata": {},
   "outputs": [
    {
     "name": "stdout",
     "output_type": "stream",
     "text": [
      "Saved PyTorch Model State to model.pth\n"
     ]
    }
   ],
   "source": [
    "torch.save(model.state_dict(), \"model.pth\")\n",
    "print(\"Saved PyTorch Model State to model.pth\")"
   ]
  },
  {
   "cell_type": "markdown",
   "id": "447f72b6",
   "metadata": {},
   "source": [
    "# loading models for prediction making"
   ]
  },
  {
   "cell_type": "code",
   "execution_count": 10,
   "id": "504a66a4",
   "metadata": {},
   "outputs": [
    {
     "name": "stdout",
     "output_type": "stream",
     "text": [
      "Predicted: \"Ankle boot\", Actual: \"Ankle boot\"\n"
     ]
    }
   ],
   "source": [
    "classes = [\n",
    "    \"T-shirt/top\",\n",
    "    \"Trouser\",\n",
    "    \"Pullover\",\n",
    "    \"Dress\",\n",
    "    \"Coat\",\n",
    "    \"Sandal\",\n",
    "    \"Shirt\",\n",
    "    \"Sneaker\",\n",
    "    \"Bag\",\n",
    "    \"Ankle boot\",\n",
    "]\n",
    "\n",
    "model.eval()\n",
    "x, y = test_data[0][0], test_data[0][1]\n",
    "with torch.no_grad():\n",
    "    pred = model(x)\n",
    "    predicted, actual = classes[pred[0].argmax(0)], classes[y]\n",
    "    print(f'Predicted: \"{predicted}\", Actual: \"{actual}\"')"
   ]
  },
  {
   "cell_type": "code",
   "execution_count": null,
   "id": "99eedc04",
   "metadata": {},
   "outputs": [],
   "source": []
  }
 ],
 "metadata": {
  "kernelspec": {
   "display_name": "Python 3",
   "language": "python",
   "name": "python3"
  },
  "language_info": {
   "codemirror_mode": {
    "name": "ipython",
    "version": 3
   },
   "file_extension": ".py",
   "mimetype": "text/x-python",
   "name": "python",
   "nbconvert_exporter": "python",
   "pygments_lexer": "ipython3",
   "version": "3.8.8"
  }
 },
 "nbformat": 4,
 "nbformat_minor": 5
}
