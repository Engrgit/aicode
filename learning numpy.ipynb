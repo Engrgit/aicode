{
 "cells": [
  {
   "cell_type": "markdown",
   "id": "274ea9e3",
   "metadata": {},
   "source": [
    "# Learn numpy with Engrgit"
   ]
  },
  {
   "cell_type": "code",
   "execution_count": 1,
   "id": "986957fb",
   "metadata": {},
   "outputs": [
    {
     "data": {
      "text/plain": [
       "4"
      ]
     },
     "execution_count": 1,
     "metadata": {},
     "output_type": "execute_result"
    }
   ],
   "source": [
    "2+2"
   ]
  },
  {
   "cell_type": "code",
   "execution_count": 2,
   "id": "3ea2d9a6",
   "metadata": {},
   "outputs": [
    {
     "name": "stdout",
     "output_type": "stream",
     "text": [
      "4\n"
     ]
    }
   ],
   "source": [
    "print(2+2)"
   ]
  },
  {
   "cell_type": "code",
   "execution_count": 3,
   "id": "2d5d816f",
   "metadata": {},
   "outputs": [],
   "source": [
    "import numpy as np"
   ]
  },
  {
   "cell_type": "markdown",
   "id": "ac12f4d2",
   "metadata": {},
   "source": [
    "lets store the movie ratings in python."
   ]
  },
  {
   "cell_type": "code",
   "execution_count": 4,
   "id": "d3282b38",
   "metadata": {},
   "outputs": [],
   "source": [
    "movie_ratings = np.array([63.0, 54.0, 70.0, 50.0])"
   ]
  },
  {
   "cell_type": "markdown",
   "id": "9c728d44",
   "metadata": {},
   "source": [
    "but they see more than one movie, so we have to create a 2 dimensional array where each row is their ratings for a specific movie"
   ]
  },
  {
   "cell_type": "code",
   "execution_count": 5,
   "id": "53782602",
   "metadata": {},
   "outputs": [],
   "source": [
    "movie_ratings = np.array([[63.0, 54.0, 70.0, 50.0],\n",
    "                          [94.0, 85.0, 89.0, 95.0],\n",
    "                          [64.0, 90.0, 73.0, 85.0]])\n"
   ]
  },
  {
   "cell_type": "markdown",
   "id": "52aede0f",
   "metadata": {},
   "source": [
    "some fans prefer to have the movies rated on a five star scale, so we can use numpy to easily divide each element by 20."
   ]
  },
  {
   "cell_type": "code",
   "execution_count": 6,
   "id": "323275fa",
   "metadata": {},
   "outputs": [],
   "source": [
    "movie_ratings_stars = movie_ratings/20"
   ]
  },
  {
   "cell_type": "markdown",
   "id": "8e128a45",
   "metadata": {},
   "source": [
    "Now let's sys the ratings are alwys in the same order (Lorie, Marty, Tori, Kurtz) if we wanted to create an array that only had Tori's ratings, we could select that from our movie_ratings array."
   ]
  },
  {
   "cell_type": "code",
   "execution_count": 7,
   "id": "fdac7b37",
   "metadata": {},
   "outputs": [
    {
     "data": {
      "text/plain": [
       "array([70., 89., 73.])"
      ]
     },
     "execution_count": 7,
     "metadata": {},
     "output_type": "execute_result"
    }
   ],
   "source": [
    "tori_ratings = movie_ratings[:, 2]\n",
    "tori_ratings"
   ]
  },
  {
   "cell_type": "markdown",
   "id": "f9866640",
   "metadata": {},
   "source": [
    "Now, say we find that we have similar taste to marty, we so only want to see movies that he gives a good ratings to, we can use logic to select those movies.\n",
    "\n",
    "Let's select all of Marty's ratings that are over 80:"
   ]
  },
  {
   "cell_type": "code",
   "execution_count": 8,
   "id": "2fba3c4d",
   "metadata": {},
   "outputs": [
    {
     "data": {
      "text/plain": [
       "array([85., 90.])"
      ]
     },
     "execution_count": 8,
     "metadata": {},
     "output_type": "execute_result"
    }
   ],
   "source": [
    "marty_ratings = movie_ratings[:, 1]\n",
    "marty_ratings[marty_ratings > 80]"
   ]
  },
  {
   "cell_type": "raw",
   "id": "7d11f81d",
   "metadata": {},
   "source": []
  },
  {
   "cell_type": "markdown",
   "id": "5566f93a",
   "metadata": {},
   "source": []
  },
  {
   "cell_type": "code",
   "execution_count": null,
   "id": "1029bf44",
   "metadata": {},
   "outputs": [],
   "source": []
  }
 ],
 "metadata": {
  "kernelspec": {
   "display_name": "Python 3",
   "language": "python",
   "name": "python3"
  },
  "language_info": {
   "codemirror_mode": {
    "name": "ipython",
    "version": 3
   },
   "file_extension": ".py",
   "mimetype": "text/x-python",
   "name": "python",
   "nbconvert_exporter": "python",
   "pygments_lexer": "ipython3",
   "version": "3.8.8"
  }
 },
 "nbformat": 4,
 "nbformat_minor": 5
}
